{
 "cells": [
  {
   "cell_type": "code",
   "execution_count": 1,
   "id": "2aa0d2e9",
   "metadata": {},
   "outputs": [],
   "source": [
    "import os, sys\n",
    "import pickle\n",
    "import numpy as np\n",
    "from tqdm import tqdm"
   ]
  },
  {
   "cell_type": "markdown",
   "id": "608be844",
   "metadata": {},
   "source": [
    "## Waymo"
   ]
  },
  {
   "cell_type": "code",
   "execution_count": 2,
   "id": "b1ea8c91",
   "metadata": {},
   "outputs": [
    {
     "name": "stdout",
     "output_type": "stream",
     "text": [
      "dict_keys(['scene_name', 'frame_name', 'frame_id', 'veh_to_global', 'objects'])\n",
      "scene_name    :  1005081002024129653_5313_150_5333_150\n",
      "frame_name    :  1005081002024129653_5313_150_5333_150_location_phx_Day_1510593600140139\n",
      "frame_id      :  0\n",
      "veh_to_global : \n",
      " [ 9.99868367e-01 -1.62249017e-02  2.35025318e-05  9.27332247e+03\n",
      "  1.62019584e-02  9.98375338e-01 -5.46276613e-02  9.46533570e+03\n",
      "  8.62864088e-04  5.46208513e-02  9.98506794e-01 -1.95371000e+02\n",
      "  0.00000000e+00  0.00000000e+00  0.00000000e+00  1.00000000e+00]\n",
      "objects[0]    : \n",
      " {'id': 0, 'name': '8EFRSwEXBf9P-SzIDRzx0A', 'label': 1, 'box': array([-2.0020041e+01,  7.2557716e+00,  5.0248885e-01,  4.7602353e+00,\n",
      "        1.9828961e+00,  1.6799999e+00,  2.0331686e+01, -9.9822059e-02,\n",
      "       -9.0812016e-03], dtype=float32), 'num_points': 606, 'detection_difficulty_level': 0, 'combined_difficulty_level': 1, 'global_speed': array([20.33063   ,  0.23041475], dtype=float32), 'global_accel': array([0.22777614, 0.03386023], dtype=float32)}\n",
      "\n",
      "\n",
      "\n",
      "dict_keys(['scene_name', 'frame_name', 'frame_id', 'lidars'])\n",
      "scene_name :  1005081002024129653_5313_150_5333_150\n",
      "frame_name :  1005081002024129653_5313_150_5333_150_location_phx_Day_1510593600140139\n",
      "frame_id   :  0\n",
      "lidars     : \n",
      " {'points_xyz': array([[-46.842773  ,  10.450195  ,   4.1116333 ],\n",
      "       [-67.19141   ,  27.495117  ,   5.1240234 ],\n",
      "       [-67.65527   ,  27.87207   ,   5.147705  ],\n",
      "       ...,\n",
      "       [ -2.397448  ,  -4.5459595 ,   0.3030615 ],\n",
      "       [ -2.5811832 ,  -4.4725933 ,   0.30346593],\n",
      "       [ -4.553009  ,  -4.0657167 ,   0.27936494]], dtype=float32), 'points_feature': array([[0.04248047, 0.        ],\n",
      "       [0.12988281, 0.        ],\n",
      "       [0.30273438, 0.05269789],\n",
      "       ...,\n",
      "       [0.04858398, 0.        ],\n",
      "       [0.07714844, 0.        ],\n",
      "       [0.08398438, 0.        ]], dtype=float32)}\n"
     ]
    }
   ],
   "source": [
    "waymo_anno_dir = \"/project/mira/personal/timmy8986/3dal_pytorch/data/Waymo/train/annos\"\n",
    "waymo_lidar_dir = \"/project/mira/personal/timmy8986/3dal_pytorch/data/Waymo/train/lidar\"\n",
    "\n",
    "anno_files = os.listdir(waymo_anno_dir)\n",
    "lidar_files = os.listdir(waymo_lidar_dir)\n",
    "\n",
    "with open(os.path.join(waymo_anno_dir, anno_files[0]), 'rb') as pk:\n",
    "    anno = pickle.load(pk)\n",
    "    print(anno.keys())\n",
    "    print('scene_name    : ', anno['scene_name'])\n",
    "    print('frame_name    : ', anno['frame_name'])\n",
    "    print('frame_id      : ', anno['frame_id'])\n",
    "    print('veh_to_global : \\n', anno['veh_to_global'])\n",
    "    print('objects[0]    : \\n', anno['objects'][0])\n",
    "\n",
    "print('\\n\\n')\n",
    "with open(os.path.join(waymo_lidar_dir, lidar_files[0]), 'rb') as pk:\n",
    "    lidar = pickle.load(pk)\n",
    "    print(lidar.keys())\n",
    "    print('scene_name : ', lidar['scene_name'])\n",
    "    print('frame_name : ', lidar['frame_name'])\n",
    "    print('frame_id   : ', lidar['frame_id'])\n",
    "    print('lidars     : \\n', lidar['lidars'])"
   ]
  },
  {
   "cell_type": "code",
   "execution_count": 3,
   "id": "284afedc",
   "metadata": {},
   "outputs": [
    {
     "name": "stderr",
     "output_type": "stream",
     "text": [
      "100%|████████████████████████████████████████████████████████████████████████████████████████████████████████████████████████████████████████████████████████████████████████| 10000/10000 [02:13<00:00, 74.71it/s]\n"
     ]
    },
    {
     "name": "stdout",
     "output_type": "stream",
     "text": [
      "{1: array([4.757425 , 2.0977216, 1.7924396], dtype=float32), 2: array([0.915268 , 0.8720095, 1.714554 ], dtype=float32), 4: array([1.7481283 , 0.82206863, 1.7092806 ], dtype=float32)}\n"
     ]
    }
   ],
   "source": [
    "waymo_labels = {1: 'Vehicle', 2: 'Pedestrian', 4: 'Cyclist'}\n",
    "waymo_boxes = {1: np.empty((0,3), np.float32), 2: np.empty((0,3), np.float32), 4: np.empty((0,3), np.float32)}\n",
    "waymo_lwh_mean = {1: np.zeros((1,3), np.float32), 2: np.zeros((1,3), np.float32), 4: np.zeros((1,3), np.float32)}\n",
    "\n",
    "sample_num = 10000\n",
    "for anno_file in tqdm(anno_files[:sample_num]):\n",
    "    with open(os.path.join(waymo_anno_dir, anno_file), 'rb') as pk:\n",
    "        anno = pickle.load(pk)\n",
    "        for anno_obj in anno['objects']:\n",
    "            label = anno_obj['label']\n",
    "            box = anno_obj['box']\n",
    "            if label in waymo_labels:\n",
    "                waymo_boxes[label] = np.vstack((waymo_boxes[label], box[3:6]))\n",
    "\n",
    "for label in waymo_labels:\n",
    "    if np.any(waymo_boxes[label]):\n",
    "        waymo_lwh_mean[label] = np.mean(waymo_boxes[label], axis=0)\n",
    "\n",
    "print(waymo_lwh_mean)\n",
    "\n",
    "# sample_num = 10000\n",
    "# {1: array([4.757425 , 2.0977216, 1.7924396], dtype=float32), \n",
    "#  2: array([0.915268 , 0.8720095, 1.714554 ], dtype=float32), \n",
    "#  4: array([1.7481283 , 0.82206863, 1.7092806 ], dtype=float32)}"
   ]
  },
  {
   "cell_type": "markdown",
   "id": "fc92a34f",
   "metadata": {},
   "source": [
    "## nuScenes"
   ]
  },
  {
   "cell_type": "code",
   "execution_count": 4,
   "id": "f159aa99",
   "metadata": {},
   "outputs": [
    {
     "name": "stdout",
     "output_type": "stream",
     "text": [
      "======\n",
      "Loading NuScenes tables for version v1.0-mini...\n",
      "23 category,\n",
      "8 attribute,\n",
      "4 visibility,\n",
      "911 instance,\n",
      "12 sensor,\n",
      "120 calibrated_sensor,\n",
      "31206 ego_pose,\n",
      "8 log,\n",
      "10 scene,\n",
      "404 sample,\n",
      "31206 sample_data,\n",
      "18538 sample_annotation,\n",
      "4 map,\n",
      "Done loading in 0.6 seconds.\n",
      "======\n",
      "Reverse indexing ...\n",
      "Done reverse indexing in 0.1 seconds.\n",
      "======\n"
     ]
    }
   ],
   "source": [
    "from nuscenes.nuscenes import NuScenes\n",
    "nusc = NuScenes(version='v1.0-mini', dataroot='/tmp2/tkyen/nuscenes', verbose=True)"
   ]
  },
  {
   "cell_type": "code",
   "execution_count": 5,
   "id": "f45638fe",
   "metadata": {},
   "outputs": [
    {
     "name": "stdout",
     "output_type": "stream",
     "text": [
      "Category stats for split v1.0-mini:\n",
      "human.pedestrian.adult      n= 4765, width= 0.68±0.11, len= 0.73±0.17, height= 1.76±0.12, lw_aspect= 1.08±0.23\n",
      "human.pedestrian.child      n=   46, width= 0.46±0.08, len= 0.45±0.09, height= 1.37±0.06, lw_aspect= 0.97±0.05\n",
      "human.pedestrian.constructi n=  193, width= 0.69±0.07, len= 0.74±0.12, height= 1.78±0.05, lw_aspect= 1.07±0.16\n",
      "human.pedestrian.personal_m n=   25, width= 0.83±0.00, len= 1.28±0.00, height= 1.87±0.00, lw_aspect= 1.55±0.00\n",
      "human.pedestrian.police_off n=   11, width= 0.59±0.00, len= 0.47±0.00, height= 1.81±0.00, lw_aspect= 0.80±0.00\n",
      "movable_object.barrier      n= 2323, width= 2.32±0.49, len= 0.61±0.11, height= 1.06±0.10, lw_aspect= 0.28±0.09\n",
      "movable_object.debris       n=   13, width= 0.43±0.00, len= 1.43±0.00, height= 0.46±0.00, lw_aspect= 3.35±0.00\n",
      "movable_object.pushable_pul n=   82, width= 0.51±0.06, len= 0.79±0.10, height= 1.04±0.20, lw_aspect= 1.55±0.18\n",
      "movable_object.trafficcone  n= 1378, width= 0.47±0.14, len= 0.45±0.07, height= 0.78±0.13, lw_aspect= 0.99±0.12\n",
      "static_object.bicycle_rack  n=   54, width= 2.67±1.46, len=10.09±6.19, height= 1.40±0.00, lw_aspect= 5.97±4.02\n",
      "vehicle.bicycle             n=  243, width= 0.64±0.12, len= 1.82±0.14, height= 1.39±0.34, lw_aspect= 2.94±0.41\n",
      "vehicle.bus.bendy           n=   57, width= 2.83±0.09, len= 9.23±0.33, height= 3.32±0.07, lw_aspect= 3.27±0.22\n",
      "vehicle.bus.rigid           n=  353, width= 2.95±0.26, len=11.46±1.79, height= 3.80±0.62, lw_aspect= 3.88±0.57\n",
      "vehicle.car                 n= 7619, width= 1.92±0.16, len= 4.62±0.36, height= 1.69±0.21, lw_aspect= 2.41±0.18\n",
      "vehicle.construction        n=  196, width= 2.58±0.35, len= 5.57±1.57, height= 2.38±0.33, lw_aspect= 2.18±0.62\n",
      "vehicle.motorcycle          n=  471, width= 0.68±0.21, len= 1.95±0.38, height= 1.47±0.20, lw_aspect= 3.00±0.62\n",
      "vehicle.trailer             n=   60, width= 2.28±0.08, len=10.14±5.69, height= 3.71±0.27, lw_aspect= 4.37±2.41\n",
      "vehicle.truck               n=  649, width= 2.35±0.34, len= 6.50±1.56, height= 2.62±0.68, lw_aspect= 2.75±0.37\n"
     ]
    }
   ],
   "source": [
    "nusc.list_categories()"
   ]
  },
  {
   "cell_type": "code",
   "execution_count": 6,
   "id": "88c36a95",
   "metadata": {},
   "outputs": [
    {
     "name": "stdout",
     "output_type": "stream",
     "text": [
      "{'token': '70aecbe9b64f4722ab3c230391a3beb8', 'sample_token': 'cd21dbfc3bd749c7b10a5c42562e0c42', 'instance_token': '6dd2cbf4c24b4caeb625035869bca7b5', 'visibility_token': '4', 'attribute_tokens': ['4d8821270b4a47e3a8a300cbec48188e'], 'translation': [373.214, 1130.48, 1.25], 'size': [0.621, 0.669, 1.642], 'rotation': [0.9831098797903927, 0.0, 0.0, -0.18301629506281616], 'prev': 'a1721876c0944cdd92ebc3c75d55d693', 'next': '1e8e35d365a441a18dd5503a0ee1c208', 'num_lidar_pts': 5, 'num_radar_pts': 0, 'category_name': 'human.pedestrian.adult'}\n"
     ]
    }
   ],
   "source": [
    "print(nusc.sample_annotation[0])"
   ]
  },
  {
   "cell_type": "code",
   "execution_count": 7,
   "id": "69fefada",
   "metadata": {},
   "outputs": [
    {
     "name": "stdout",
     "output_type": "stream",
     "text": [
      "{1: 'Vehicle', 2: 'Pedestrian', 4: 'Cyclist'}\n",
      "{1: array([4.62030673, 1.92481494, 1.69039835]), 2: array([0.73394802, 0.68270278, 1.75781567]), 4: array([1.90842437, 0.66322129, 1.44645658])}\n"
     ]
    }
   ],
   "source": [
    "nuscenes_labels = waymo_labels\n",
    "nuscenes_boxes = {1: np.empty((0,3), np.float32), 2: np.empty((0,3), np.float32), 4: np.empty((0,3), np.float32)}\n",
    "nuscenes_lwh_mean = {1: np.zeros((1,3), np.float32), 2: np.zeros((1,3), np.float32), 4: np.zeros((1,3), np.float32)}\n",
    "print(nuscenes_labels)\n",
    "\n",
    "for sample_annotation in nusc.sample_annotation:\n",
    "    category_name = sample_annotation['category_name']\n",
    "    size = np.array(sample_annotation['size'])\n",
    "\n",
    "    if category_name in ['vehicle.car']:\n",
    "        nuscenes_boxes[1] = np.vstack((nuscenes_boxes[1], size))\n",
    "    elif 'human.pedestrian' in category_name:\n",
    "        nuscenes_boxes[2] = np.vstack((nuscenes_boxes[2], size))\n",
    "    if category_name in ['vehicle.bicycle', 'vehicle.motorcycle']:\n",
    "        nuscenes_boxes[4] = np.vstack((nuscenes_boxes[4], size))\n",
    "\n",
    "for label in nuscenes_labels:\n",
    "    if np.any(nuscenes_boxes[label]):\n",
    "        lwh_mean = np.mean(nuscenes_boxes[label], axis=0) # w, l, h\n",
    "        lwh_mean[[0, 1]] = lwh_mean[[1, 0]]\n",
    "        nuscenes_lwh_mean[label] = lwh_mean               # l, w, h\n",
    "\n",
    "print(nuscenes_lwh_mean)"
   ]
  },
  {
   "cell_type": "markdown",
   "id": "f43b3cba",
   "metadata": {},
   "source": [
    "## Waymo to nuScenes"
   ]
  },
  {
   "cell_type": "code",
   "execution_count": 8,
   "id": "c4d58f8c",
   "metadata": {},
   "outputs": [
    {
     "name": "stdout",
     "output_type": "stream",
     "text": [
      "waymo_lwh_mean   : \n",
      " {1: array([4.757425 , 2.0977216, 1.7924396], dtype=float32), 2: array([0.915268 , 0.8720095, 1.714554 ], dtype=float32), 4: array([1.7481283 , 0.82206863, 1.7092806 ], dtype=float32)} \n",
      "\n",
      "nuscenes_lwh_mean: \n",
      " {1: array([4.62030673, 1.92481494, 1.69039835]), 2: array([0.73394802, 0.68270278, 1.75781567]), 4: array([1.90842437, 0.66322129, 1.44645658])}\n",
      "\n",
      "{1: array([-0.1371181 , -0.17290664, -0.10204123]), 2: array([-0.18131999, -0.18930674,  0.04326172]), 4: array([ 0.16029607, -0.15884734, -0.26282403])}\n"
     ]
    }
   ],
   "source": [
    "w2n_anno_dir = \"/tmp2/tkyen/3DAL/da/waymo_to_nuscene/train/annos\"\n",
    "w2n_lidar_dir = \"/tmp2/tkyen/3DAL/da/waymo_to_nuscene/train/lidar\"\n",
    "w2n_deltas = {1: np.zeros((1,3), np.float32), 2: np.zeros((1,3), np.float32), 4: np.zeros((1,3), np.float32)}\n",
    "\n",
    "print(\"waymo_lwh_mean   : \\n\", waymo_lwh_mean, \"\\n\")\n",
    "print(\"nuscenes_lwh_mean: \\n\", nuscenes_lwh_mean)\n",
    "print()\n",
    "\n",
    "for label in waymo_labels:\n",
    "    w2n_deltas[label] = nuscenes_lwh_mean[label] - waymo_lwh_mean[label]\n",
    "\n",
    "print(w2n_deltas)"
   ]
  },
  {
   "cell_type": "code",
   "execution_count": 10,
   "id": "fe56d41e",
   "metadata": {},
   "outputs": [
    {
     "name": "stderr",
     "output_type": "stream",
     "text": [
      "  0%|                                                                                                                                                                                   | 0/158081 [00:00<?, ?it/s]\n"
     ]
    }
   ],
   "source": [
    "np.set_printoptions(threshold=np.inf, suppress=True)\n",
    "\n",
    "for anno_file in tqdm(anno_files):\n",
    "    with open(os.path.join(waymo_anno_dir, anno_file), 'rb') as anno_pk:\n",
    "        anno = pickle.load(anno_pk)\n",
    "    with open(os.path.join(waymo_lidar_dir, anno_file), 'rb') as lidar_pk:\n",
    "        lidar = pickle.load(lidar_pk)\n",
    "        world_xyz = lidar['lidars']['points_xyz']\n",
    "\n",
    "    for anno_obj in anno['objects']:\n",
    "        # for anno\n",
    "        label = anno_obj['label']\n",
    "        if label not in waymo_labels:\n",
    "            continue\n",
    "        source_box = anno_obj['box']\n",
    "        target_box = np.copy(source_box)\n",
    "        target_box[3:6] = target_box[3:6] + w2n_deltas[label]\n",
    "        anno_obj['box'] = target_box\n",
    "\n",
    "        # for lidar\n",
    "        X, Y, Z, Ls, Ws, Hs, _, _, heading_angle = source_box\n",
    "        heading_vector = np.array([np.cos(heading_angle), np.sin(heading_angle)])\n",
    "        lateral_vector = np.cross(np.array([0,0,1]), np.append(heading_vector, np.zeros(1)))[:2]\n",
    "\n",
    "        # Xs, Ys, Zs is the bottom right corner of the bounding box (x: forward / y: left / z: upward)\n",
    "        Xs, Ys = np.array([X, Y]) - heading_vector * Ls / 2 - lateral_vector * Ws / 2\n",
    "        Zs = Z - Hs / 2\n",
    "\n",
    "        # world coordinate system to bounding box coordinate system\n",
    "        # w = R_wb * b + t_wb\n",
    "        R_wb = np.array([[np.cos(heading_angle), -np.sin(heading_angle), 0],\n",
    "                         [np.sin(heading_angle),  np.cos(heading_angle), 0],\n",
    "                         [                    0,                      0, 1]])\n",
    "        t_wb = np.array([[Xs, Ys, Zs]])\n",
    "        \n",
    "        bbox_xyz = np.linalg.inv(R_wb) @ (world_xyz - t_wb).T\n",
    "        bbox_xyz = bbox_xyz.T\n",
    "\n",
    "        bbox_center_xyz = np.array([[Ls, Ws, Hs]]) / 2\n",
    "        \n",
    "        mask = (bbox_xyz[:,0]>=0) & (bbox_xyz[:,0]<=Ls) & \\\n",
    "               (bbox_xyz[:,1]>=0) & (bbox_xyz[:,1]<=Ws) & \\\n",
    "               (bbox_xyz[:,2]>=0) & (bbox_xyz[:,2]<=Hs)\n",
    "        \n",
    "        rescale_ratio = target_box[3:6]/source_box[3:6]\n",
    "        bbox_rescale_xyz = bbox_center_xyz + (bbox_xyz[mask] - bbox_center_xyz) * rescale_ratio\n",
    "\n",
    "        # bounding box coordinate system to world coordinate system\n",
    "        world_new_xyz = R_wb @ bbox_rescale_xyz.T + t_wb.T\n",
    "        world_new_xyz = world_new_xyz.T\n",
    "        \n",
    "#         print(source_box[0:3]-source_box[3:6]/2, source_box[0:3]+source_box[3:6]/2)\n",
    "#         print(target_box[0:3]-target_box[3:6]/2, target_box[0:3]+target_box[3:6]/2)\n",
    "        \n",
    "#         print(np.min(world_xyz[mask], axis=0), np.max(world_xyz[mask], axis=0))\n",
    "#         print(np.min(world_new_xyz, axis=0), np.max(world_new_xyz, axis=0))\n",
    "\n",
    "        lidar['lidars']['points_xyz'][mask] = world_new_xyz\n",
    "        \n",
    "    # Save DA annotations\n",
    "    with open(os.path.join(w2n_anno_dir, anno_file), 'wb') as anno_pk:\n",
    "        pickle.dump(anno, anno_pk)\n",
    "\n",
    "    # Save DA lidar\n",
    "    with open(os.path.join(w2n_lidar_dir, anno_file), 'wb') as lidar_pk:\n",
    "        pickle.dump(lidar, lidar_pk)\n",
    "\n",
    "    break"
   ]
  },
  {
   "cell_type": "code",
   "execution_count": 11,
   "id": "d5294448",
   "metadata": {},
   "outputs": [
    {
     "name": "stdout",
     "output_type": "stream",
     "text": [
      "seq_2_frame_0.pkl\n"
     ]
    }
   ],
   "source": [
    "# Sanity check for an annotation\n",
    "anno_file = anno_files[0]\n",
    "print(anno_file)\n",
    "\n",
    "with open(os.path.join(waymo_anno_dir, anno_file), 'rb') as anno_pk:\n",
    "    anno_waymo = pickle.load(anno_pk)\n",
    "with open(os.path.join(w2n_anno_dir, anno_file), 'rb') as anno_pk:\n",
    "    anno_nuscenes = pickle.load(anno_pk)\n",
    "\n",
    "for anno_waymo_obj,  anno_nuscenes_obj in zip(anno_waymo['objects'], anno_nuscenes['objects']):\n",
    "    assert anno_waymo_obj['label'] == anno_nuscenes_obj['label'], \"Label should be the same.\"\n",
    "    label = anno_waymo_obj['label']\n",
    "\n",
    "    if label not in waymo_labels:\n",
    "        continue\n",
    "    \n",
    "    anno_waymo_obj['box'][3:6] = anno_waymo_obj['box'][3:6] + w2n_deltas[label]\n",
    "    assert (anno_waymo_obj['box'] == anno_nuscenes_obj['box']).all(), \"Coordinates are wrong.\""
   ]
  },
  {
   "cell_type": "code",
   "execution_count": null,
   "id": "b30ca5b0",
   "metadata": {},
   "outputs": [],
   "source": []
  }
 ],
 "metadata": {
  "kernelspec": {
   "display_name": "Python 3 (ipykernel)",
   "language": "python",
   "name": "python3"
  },
  "language_info": {
   "codemirror_mode": {
    "name": "ipython",
    "version": 3
   },
   "file_extension": ".py",
   "mimetype": "text/x-python",
   "name": "python",
   "nbconvert_exporter": "python",
   "pygments_lexer": "ipython3",
   "version": "3.7.15"
  }
 },
 "nbformat": 4,
 "nbformat_minor": 5
}
